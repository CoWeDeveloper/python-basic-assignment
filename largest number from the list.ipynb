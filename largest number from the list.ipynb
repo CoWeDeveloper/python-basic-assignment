{
 "cells": [
  {
   "cell_type": "code",
   "execution_count": 13,
   "metadata": {},
   "outputs": [
    {
     "name": "stdout",
     "output_type": "stream",
     "text": [
      "Enter number of elements in list: 3\n",
      "Enter number = 2\n",
      "Enter number = 4\n",
      "Enter number = 3\n",
      "Largest element is: 4\n"
     ]
    }
   ],
   "source": [
    "\n",
    "list = [] \n",
    "  \n",
    "\n",
    "num = int(input(\"Enter number of elements in list: \")) \n",
    "  \n",
    "for parts in range(1, num + 1): \n",
    "    \n",
    "    digit = int(input(\"Enter number = \")) \n",
    "    \n",
    "    list.append(digit) \n",
    "      \n",
    "\n",
    "print(\"Largest element is:\", max(list)) "
   ]
  }
 ],
 "metadata": {
  "kernelspec": {
   "display_name": "Python 3",
   "language": "python",
   "name": "python3"
  },
  "language_info": {
   "codemirror_mode": {
    "name": "ipython",
    "version": 3
   },
   "file_extension": ".py",
   "mimetype": "text/x-python",
   "name": "python",
   "nbconvert_exporter": "python",
   "pygments_lexer": "ipython3",
   "version": "3.7.6"
  }
 },
 "nbformat": 4,
 "nbformat_minor": 4
}
