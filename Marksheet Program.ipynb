{
 "cells": [
  {
   "cell_type": "code",
   "execution_count": 3,
   "metadata": {},
   "outputs": [
    {
     "name": "stdout",
     "output_type": "stream",
     "text": [
      "i will make your mark sheet but before making it,i need to know your marks \n",
      "please type your marks Math 91\n",
      "please type your marks English 90\n",
      "please type your marks Chemistry 85\n",
      "please type your marks Physic 90\n",
      "please type your marks Biology 86\n",
      "your marksheet is ready\n",
      "Math = 91\n",
      "English = 90\n",
      "Chemistry = 85\n",
      "Physic = 90\n",
      "Biology = 86\n",
      "Total marks = 442\n",
      "% 88.4\n",
      "your Grade is A+\n"
     ]
    }
   ],
   "source": [
    "print('i will make your mark sheet but before making it,i need to know your marks ')\n",
    "Math = input('please type your marks Math ')\n",
    "English = input('please type your marks English ')\n",
    "Chemistry = input('please type your marks Chemistry ')\n",
    "Physic = input('please type your marks Physic ')\n",
    "Biology = input('please type your marks Biology ')\n",
    "print('your marksheet is ready')\n",
    "print('Math = ' + Math)\n",
    "print('English = ' + English)\n",
    "print('Chemistry = '+ Chemistry)\n",
    "print('Physic = '+ Physic)\n",
    "print('Biology = '+ Biology)\n",
    "Total = int(Math) + int(English) + int(Chemistry) + int(Physic) + int(Biology)\n",
    "print('Total marks = ' + str(Total))\n",
    "Percentage =(Total/500)*100\n",
    "print('% ' + str(Percentage))\n",
    "if Total > 400 :\n",
    "    print('your Grade is A+')\n",
    "elif Total > 300 :\n",
    "    print('your Grade is A')\n",
    "elif Total > 200 :\n",
    "    print('your Grade is B')\n",
    "elif Total > 100 :\n",
    "    print('your Grade is C')\n",
    "else:\n",
    "    print('you fail')"
   ]
  }
 ],
 "metadata": {
  "kernelspec": {
   "display_name": "Python 3",
   "language": "python",
   "name": "python3"
  },
  "language_info": {
   "codemirror_mode": {
    "name": "ipython",
    "version": 3
   },
   "file_extension": ".py",
   "mimetype": "text/x-python",
   "name": "python",
   "nbconvert_exporter": "python",
   "pygments_lexer": "ipython3",
   "version": "3.7.6"
  }
 },
 "nbformat": 4,
 "nbformat_minor": 4
}
