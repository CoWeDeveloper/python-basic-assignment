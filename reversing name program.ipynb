{
 "cells": [
  {
   "cell_type": "code",
   "execution_count": 1,
   "metadata": {},
   "outputs": [
    {
     "name": "stdout",
     "output_type": "stream",
     "text": [
      "This program will make your name in reverse order :D \n",
      "but first let me know your good name?\n",
      "Enter your first name Muhammad \n",
      "Enter your second name Owais\n",
      "Owais Muhammad \n"
     ]
    }
   ],
   "source": [
    "print('This program will make your name in reverse order :D ')\n",
    "print('but first let me know your good name?')\n",
    "\n",
    "First_name=input('Enter your first name ')\n",
    "Second_name=input('Enter your second name ')\n",
    "\n",
    "print(Second_name + ' '+ First_name)\n"
   ]
  }
 ],
 "metadata": {
  "kernelspec": {
   "display_name": "Python 3",
   "language": "python",
   "name": "python3"
  },
  "language_info": {
   "codemirror_mode": {
    "name": "ipython",
    "version": 3
   },
   "file_extension": ".py",
   "mimetype": "text/x-python",
   "name": "python",
   "nbconvert_exporter": "python",
   "pygments_lexer": "ipython3",
   "version": "3.7.6"
  }
 },
 "nbformat": 4,
 "nbformat_minor": 4
}
