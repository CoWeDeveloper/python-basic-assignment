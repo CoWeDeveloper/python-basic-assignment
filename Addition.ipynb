{
 "cells": [
  {
   "cell_type": "code",
   "execution_count": 1,
   "metadata": {},
   "outputs": [
    {
     "name": "stdout",
     "output_type": "stream",
     "text": [
      "Hello ! i will help you to add two number\n",
      "Enter the first digit 10\n",
      "Enter the second digit 24\n",
      "34\n"
     ]
    }
   ],
   "source": [
    "print('Hello ! i will help you to add two number')    #addition program math is your best friend ! \n",
    "a = int(input(\"Enter the first digit \"))\n",
    "b = int(input(\"Enter the second digit \"))\n",
    "c = a + b\n",
    "print(c)\n"
   ]
  }
 ],
 "metadata": {
  "kernelspec": {
   "display_name": "Python 3",
   "language": "python",
   "name": "python3"
  },
  "language_info": {
   "codemirror_mode": {
    "name": "ipython",
    "version": 3
   },
   "file_extension": ".py",
   "mimetype": "text/x-python",
   "name": "python",
   "nbconvert_exporter": "python",
   "pygments_lexer": "ipython3",
   "version": "3.7.6"
  }
 },
 "nbformat": 4,
 "nbformat_minor": 4
}
