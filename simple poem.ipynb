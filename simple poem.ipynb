{
 "cells": [
  {
   "cell_type": "code",
   "execution_count": 1,
   "metadata": {},
   "outputs": [
    {
     "name": "stdout",
     "output_type": "stream",
     "text": [
      "Twinkle, twinkle, little star,\n",
      " How i wonder what you are!\n",
      "  Up above the world so high,\n",
      "  like a diamond in the sky.\n",
      "Twinkle twinkle, little star,\n",
      " How i wonder what you are\n"
     ]
    }
   ],
   "source": [
    "print(\"Twinkle, twinkle, little star,\")\n",
    "print(\" How i wonder what you are!\")\n",
    "print(\"  Up above the world so high,\")\n",
    "print(\"  like a diamond in the sky.\")\n",
    "print(\"Twinkle twinkle, little star,\")\n",
    "print(\" How i wonder what you are\")"
   ]
  },
  {
   "cell_type": "code",
   "execution_count": 1,
   "metadata": {},
   "outputs": [
    {
     "name": "stdout",
     "output_type": "stream",
     "text": [
      "Twinkle, twinkle, little star\n",
      " How I wonder what you are!\n",
      "  Up above the world so high\n",
      "  like a diamond in the sky\n",
      "Twinkle, Twinkle,little star\n",
      " How i wonder what you are?\n"
     ]
    }
   ],
   "source": [
    "lists = ['Twinkle, twinkle, little star', ' How I wonder what you are!',\n",
    "         \"  Up above the world so high\", \"  like a diamond in the sky\",\n",
    "         \"Twinkle, Twinkle,little star\", \" How i wonder what you are?\"]\n",
    "for a_list in lists :\n",
    " print(a_list)   "
   ]
  }
 ],
 "metadata": {
  "kernelspec": {
   "display_name": "Python 3",
   "language": "python",
   "name": "python3"
  },
  "language_info": {
   "codemirror_mode": {
    "name": "ipython",
    "version": 3
   },
   "file_extension": ".py",
   "mimetype": "text/x-python",
   "name": "python",
   "nbconvert_exporter": "python",
   "pygments_lexer": "ipython3",
   "version": "3.7.6"
  }
 },
 "nbformat": 4,
 "nbformat_minor": 4
}
