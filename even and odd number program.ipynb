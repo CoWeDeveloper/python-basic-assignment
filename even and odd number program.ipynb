{
 "cells": [
  {
   "cell_type": "code",
   "execution_count": 1,
   "metadata": {},
   "outputs": [
    {
     "name": "stdout",
     "output_type": "stream",
     "text": [
      "write your number to let you know it is even or odd\n",
      "Enter your number 4\n",
      "your number is even \n"
     ]
    }
   ],
   "source": [
    "print('write your number to let you know it is even or odd')\n",
    "num =int(input('Enter your number '))\n",
    "if (num % 2) == 0 :\n",
    "    print('your number is even ')\n",
    "else :\n",
    "    print('your number is odd ')"
   ]
  }
 ],
 "metadata": {
  "kernelspec": {
   "display_name": "Python 3",
   "language": "python",
   "name": "python3"
  },
  "language_info": {
   "codemirror_mode": {
    "name": "ipython",
    "version": 3
   },
   "file_extension": ".py",
   "mimetype": "text/x-python",
   "name": "python",
   "nbconvert_exporter": "python",
   "pygments_lexer": "ipython3",
   "version": "3.7.6"
  }
 },
 "nbformat": 4,
 "nbformat_minor": 4
}
